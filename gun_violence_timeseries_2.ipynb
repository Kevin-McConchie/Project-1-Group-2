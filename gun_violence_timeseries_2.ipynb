{
 "cells": [
  {
   "cell_type": "code",
   "execution_count": null,
   "metadata": {},
   "outputs": [],
   "source": [
    "# Dependencies and Setup\n",
    "import matplotlib.pyplot as plt\n",
    "import pandas as pd\n",
    "import numpy as np\n",
    "\n",
    "# file path\n",
    "file_path = \"archive.zip\"\n",
    "\n",
    "# create dataframes\n",
    "kd_gun_violence_df = pd.read_csv(file_path)\n",
    "kd_gun_violence_df.head()"
   ]
  },
  {
   "cell_type": "code",
   "execution_count": null,
   "metadata": {},
   "outputs": [],
   "source": [
    "# focus on only relevent columns\n",
    "columns = kd_gun_violence_df.columns.values.tolist()\n",
    "\n",
    "kd_gv_timeseries = kd_gun_violence_df.copy()\n",
    "\n",
    "kd_gv_timeseries = kd_gv_timeseries.loc[:, ['incident_id', 'date', 'state', 'city_or_county','n_killed', 'n_injured','latitude', 'longitude']]"
   ]
  },
  {
   "cell_type": "code",
   "execution_count": null,
   "metadata": {},
   "outputs": [],
   "source": [
    "## prepare dataframe for timeseries analysis\n",
    "\n",
    "# convert column date to datetime\n",
    "kd_gv_timeseries[\"date\"] = pd.to_datetime(kd_gv_timeseries[\"date\"])\n",
    "\n",
    "# split datetime column to isolate year-month and year\n",
    "kd_gv_timeseries['Year/Month'] = kd_gv_timeseries[\"date\"].dt.to_period('M')\n",
    "kd_gv_timeseries['Year'] = kd_gv_timeseries[\"date\"].dt.year\n",
    "\n",
    "# examine data for data anomalies\n",
    "kd_grpby_count = kd_gv_timeseries.groupby(['Year/Month'])['n_killed'].count()\n",
    "kd_count_yr_month = pd.DataFrame(kd_grpby_count) \n",
    "kd_count_yr_month.head()"
   ]
  },
  {
   "cell_type": "code",
   "execution_count": null,
   "metadata": {},
   "outputs": [],
   "source": [
    "# remove 2013 (incomplete data).  Focus on 4 year timeperiod\n",
    "kd_13_17 = kd_gv_timeseries.loc[(kd_gv_timeseries['Year'] >= 2014) & (kd_gv_timeseries['Year'] <= 2017)].reset_index(drop=True)\n",
    "\n",
    "kd_13_17[\"Quarter\"] = kd_13_17['date'].dt.to_period('Q-Dec')\n",
    "kd_13_17.dtypes"
   ]
  },
  {
   "cell_type": "code",
   "execution_count": null,
   "metadata": {},
   "outputs": [],
   "source": [
    "# sum number of killed per quarter\n",
    "kd_gb = kd_13_17.groupby(['Quarter'])['n_killed'].sum()\n",
    "kd_total_deaths_timeseries = pd.DataFrame(kd_gb).reset_index().rename(columns={'Quarter': 'Date', 'n_killed': 'Gun Killings'})\n",
    "kd_total_deaths_timeseries.head()"
   ]
  },
  {
   "cell_type": "code",
   "execution_count": null,
   "metadata": {},
   "outputs": [],
   "source": [
    "# plot number of killed per quarter\n",
    "kd_total_deaths_timeseries.plot(kind='bar', x='Date', y='Gun Killings', figsize=(8,5), color='red')\n",
    "plt.xticks(rotation=60)\n",
    "plt.yticks(np.arange(1000, 4500, step=250))\n",
    "plt.ylim(bottom=1000, top=4500)\n",
    "plt.grid()\n",
    "plt.show()"
   ]
  },
  {
   "cell_type": "code",
   "execution_count": null,
   "metadata": {},
   "outputs": [],
   "source": [
    "# compare number of incidences of gun violence to number killed per month\n",
    "kd_gb2 = kd_13_17.groupby(['Year/Month'])['n_killed'].count()\n",
    "kd_gb3 = kd_13_17.groupby(['Year/Month'])['n_killed'].sum()\n",
    "kd_n_killed_by_month = pd.DataFrame(kd_gb3).reset_index().rename(columns={'Year/Month': 'Date', 'n_killed': 'Gun Killings'})\n",
    "kd_incidences_timeseries = pd.DataFrame(kd_gb2).reset_index().rename(columns={'Year/Month': 'Date', 'n_killed': 'Incidences Involving Gun Violence'})\n",
    "kd_incidences_vs_killings_timeseries = pd.merge(kd_incidences_timeseries, kd_n_killed_by_month, on=\"Date\")\n",
    "\n",
    "kd_ave_incidences = round(kd_incidences_vs_killings_timeseries['Incidences Involving Gun Violence'].expanding(1).mean(), 2)\n",
    "kd_ave_killings = round(kd_incidences_vs_killings_timeseries['Gun Killings'].expanding(1).mean(), 2)\n",
    "kd_incidences_vs_killings_timeseries['Moving Average: Incidences'] = kd_ave_incidences\n",
    "kd_incidences_vs_killings_timeseries['Moving Average: Gun Killings'] = kd_ave_killings\n",
    "\n",
    "kd_incidences_vs_killings_timeseries.head()"
   ]
  },
  {
   "cell_type": "code",
   "execution_count": null,
   "metadata": {},
   "outputs": [],
   "source": [
    "# plot number of incidences of gun violence to number killed per month\n",
    "kd_incidences_vs_killings_timeseries.plot(kind='area', x='Date', \n",
    "                                        y=['Moving Average: Incidences', 'Moving Average: Gun Killings'],\n",
    "                                        figsize=(10,8), stacked=False)\n",
    "plt.xticks(rotation=60)\n",
    "plt.xlim(pd.Timestamp('2014-02'))\n",
    "plt.yticks(np.arange(0, 5000, step=250))\n",
    "plt.ylim(0, 5000)\n",
    "plt.show()"
   ]
  },
  {
   "cell_type": "code",
   "execution_count": null,
   "metadata": {},
   "outputs": [],
   "source": [
    "# unstack n_killed by quarter\n",
    "kd_gb4 = kd_13_17.groupby(['Year', 'Quarter'])['n_killed'].sum()\n",
    "kd_n_killed_comp_by_qrtr = pd.DataFrame(kd_gb4).reset_index()\n",
    "kd_q = kd_n_killed_comp_by_qrtr['Quarter'].astype(str)\n",
    "kd_n_killed_comp_by_qrtr['Date'] = kd_q\n",
    "kd_n_killed_comp_by_qrtr['Q'] = kd_n_killed_comp_by_qrtr['Date'].str[4:6]\n",
    "kd_quarter_sums = kd_n_killed_comp_by_qrtr.loc[:, ['Year', 'Q', 'n_killed']].set_index(['Year', 'Q']).unstack('Q')\n",
    "kd_quarter_sums"
   ]
  },
  {
   "cell_type": "code",
   "execution_count": null,
   "metadata": {},
   "outputs": [],
   "source": [
    "# create dataframe holding n_killed by quarter and percent change\n",
    "kd_q1 = pd.Series(kd_quarter_sums['n_killed']['Q1'])\n",
    "kd_q2 = list(kd_quarter_sums['n_killed']['Q2'])\n",
    "kd_q3 = list(kd_quarter_sums['n_killed']['Q3'])\n",
    "kd_q4 = list(kd_quarter_sums['n_killed']['Q4'])\n",
    "\n",
    "kd_qrtr_sum_pct_change = pd.DataFrame(kd_q1).reset_index(inplace=False)\n",
    "kd_qrtr_sum_pct_change['Q1 pct change'] = kd_qrtr_sum_pct_change['Q1'].pct_change().fillna(0)\n",
    "kd_qrtr_sum_pct_change['Q2'] = kd_q2\n",
    "kd_qrtr_sum_pct_change['Q2 pct change'] = kd_qrtr_sum_pct_change['Q2'].pct_change().fillna(0)\n",
    "kd_qrtr_sum_pct_change['Q3'] = kd_q3\n",
    "kd_qrtr_sum_pct_change['Q3 pct change'] = kd_qrtr_sum_pct_change['Q3'].pct_change().fillna(0)\n",
    "kd_qrtr_sum_pct_change['Q4'] = kd_q4\n",
    "kd_qrtr_sum_pct_change['Q4 pct change'] = kd_qrtr_sum_pct_change['Q4'].pct_change().fillna(0)\n",
    "kd_qrtr_sum_pct_change"
   ]
  },
  {
   "cell_type": "code",
   "execution_count": null,
   "metadata": {},
   "outputs": [],
   "source": [
    "# create x axis labels and locations\n",
    "kd_year = kd_qrtr_sum_pct_change['Year']\n",
    "kd_x_axis = np.arange(len(kd_qrtr_sum_pct_change))\n",
    "tick_locations = [value for value in kd_x_axis]"
   ]
  },
  {
   "cell_type": "code",
   "execution_count": null,
   "metadata": {},
   "outputs": [],
   "source": [
    "# plot line graphs showing the pct change in number of gun killings over the time period\n",
    "\n",
    "fig, (ax1, ax2, ax3, ax4) = plt.subplots(4, sharex=True, figsize=(5,7), sharey=True)\n",
    "ax1.plot(kd_qrtr_sum_pct_change['Q1 pct change'], 'tab:red')\n",
    "ax1.set_ylabel('Q1')\n",
    "ax1.grid()\n",
    "ax2.plot(kd_qrtr_sum_pct_change['Q2 pct change'], 'tab:red')\n",
    "ax2.set_ylabel('Q2')\n",
    "ax2.grid()\n",
    "ax3.plot(kd_qrtr_sum_pct_change['Q3 pct change'], 'tab:green')\n",
    "ax3.grid()\n",
    "ax3.set_ylabel('Q3')\n",
    "ax4.plot(kd_qrtr_sum_pct_change['Q4 pct change'], 'tab:green')\n",
    "ax4.grid()\n",
    "ax4.set_ylabel('Q4')\n",
    "\n",
    "plt.xticks(ticks= kd_x_axis, labels=kd_year, rotation=60)\n",
    "plt.ylim(-0.10, 0.3)\n",
    "plt.show()\n",
    "plt.tight_layout()"
   ]
  }
 ],
 "metadata": {
  "kernelspec": {
   "display_name": "Python 3.7.13 ('bootcamp')",
   "language": "python",
   "name": "python3"
  },
  "language_info": {
   "name": "python",
   "version": "3.7.13"
  },
  "orig_nbformat": 4,
  "vscode": {
   "interpreter": {
    "hash": "efc213f78c2332ade3cb52c89bda8c080bc1ae1c359626bac6e5e7c902af6ee9"
   }
  }
 },
 "nbformat": 4,
 "nbformat_minor": 2
}
