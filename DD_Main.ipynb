{
 "cells": [
  {
   "cell_type": "markdown",
   "metadata": {},
   "source": [
    "### Note\n",
    "* Instructions have been included for each segment. You do not have to follow them exactly, but they are included to help you think through the steps."
   ]
  },
  {
   "cell_type": "code",
   "execution_count": 2,
   "metadata": {},
   "outputs": [],
   "source": [
    "# Dependencies and Setup\n",
    "import pandas as pd\n",
    "from datetime import datetime\n",
    "import os\n",
    "import glob\n",
    "import numpy as np\n",
    "\n",
    "#Custom Calls\n",
    "import DD_Process_Incident_Details as dp\n",
    "import DD_Get_Victim_Counts as gpc\n"
   ]
  },
  {
   "cell_type": "markdown",
   "metadata": {},
   "source": [
    "## Player Count"
   ]
  },
  {
   "cell_type": "code",
   "execution_count": 3,
   "metadata": {},
   "outputs": [],
   "source": [
    "## DD PART I \n",
    "## FILE IMPORT \n",
    "\n",
    "dd_file = \"resource/gun-violence-data_01-2013_03-2018 2.csv\"\n",
    "dd_file_df = pd.read_csv(dd_file)\n",
    "\n",
    "# A sub df created with the columns which targeted to be processed\n",
    "dd_participant_vdf = dd_file_df[['incident_id','participant_age_group','participant_gender','participant_type','participant_status']]\n",
    "dd_participant_vdf.reset_index\n",
    "\n",
    "dd_participant_vdf = dd_participant_vdf.dropna()\n",
    "dd_participant_vdf.reset_index(level=None, drop=False, inplace=True, col_level=0, col_fill='')\n",
    "\n"
   ]
  },
  {
   "cell_type": "code",
   "execution_count": 4,
   "metadata": {},
   "outputs": [],
   "source": [
    "## DD PART II\n",
    "## DATA PROCESSING\n",
    "\n",
    "#\n",
    "# CALCULATING SUSPECT AND VICTIM COUNT\n",
    "#\n",
    "\n",
    "dd_l_victim = gpc.get_count(dd_participant_vdf['participant_type'],'Victim')\n",
    "dd_l_suspect = gpc.get_count(dd_participant_vdf['participant_type'],'Suspect')\n",
    "\n",
    "\n",
    "dd_participant_vdf = dd_participant_vdf.assign(Victim_Count=dd_l_victim)\n",
    "dd_participant_vdf = dd_participant_vdf.assign(Suspect_Count=dd_l_suspect)\n",
    "\n",
    "\n",
    "#\n",
    "#  PROCESSING DATA INTO ROWS, CREATING INVOICE DETAILS DF\n",
    "#\n",
    "\n",
    "# Chunks are created to create sample data faster. The whole set runs about 50 minutes to process\n",
    "dd_S = 40000\n",
    "dd_N = int(len(dd_participant_vdf)/dd_S)\n",
    "dd_frames = [ dd_participant_vdf.iloc[i*dd_S:(i+1)*dd_S].copy() for i in range(dd_N+1) ]\n",
    "\n",
    "\n",
    "#Calling custom python file to convert to data stored in series to rows.\n",
    "i=0\n",
    "p_dd_flag = False #50 min total time . Turn it on only when you want to process the data again.\n",
    "if p_dd_flag == True:\n",
    "    for dframe in dd_frames:\n",
    "\n",
    "        dd_date_time = datetime.now().strftime(\"%m%d%Y\")\n",
    "        dd_file_name =f\"dd_incident_details_{str(dd_date_time)}_{i}\"\n",
    "        print(\"file name:\",dd_file_name)\n",
    "        p_dd_debug = False\n",
    "        i+=1\n",
    "\n",
    "\n",
    "        p_dd_debug = False\n",
    "        p_val = dp.process_data(dframe['incident_id'], \n",
    "                        dframe['participant_type'],\n",
    "                        dframe[\"participant_gender\"],\n",
    "                        dframe[\"participant_status\"],\n",
    "                        dframe[\"participant_age_group\"],\n",
    "                        dd_file_name,                \n",
    "                        p_dd_debug\n",
    "                    )\n",
    "\n",
    "\n",
    "#\n",
    "# MERGING MULTIPLE FILES CREATED IN THE CHUNKS INTO SINGLE DATA FRAME\n",
    "#\n",
    "\n",
    "# I choose to create data in chunks, therefore I merged the created csv files and created a single dataframe for the result.\n",
    "dd_dir_path = \"resource\"\n",
    "\n",
    "dd_joined_files = os.path.join(dd_dir_path, \"dd_incident_details*.csv\")\n",
    "\n",
    "# A list of all joined files is returned\n",
    "dd_joined_list = glob.glob(dd_joined_files)\n",
    "  \n",
    "# Finally, the files are joined\n",
    "dd_merged_df = pd.concat(map(pd.read_csv, dd_joined_list), ignore_index=True)\n",
    "dd_merged_df.reset_index(level=None, drop=False, inplace=True, col_level=0, col_fill='')\n",
    "del dd_merged_df['index']\n",
    "               \n"
   ]
  },
  {
   "cell_type": "code",
   "execution_count": 5,
   "metadata": {},
   "outputs": [],
   "source": [
    "## DD PART III\n",
    "## DATA CLEANING \n",
    "\n",
    "#### OPTIONAL EXTRACTING DATA TO CSV TO AVOID PROCESSING TIMES\n",
    "#Not necessary but I extracted the data to csv file for my internal work. \n",
    "dd_date_time = datetime.now().strftime(\"%m%d%Y\")\n",
    "dd_file_name = f\"{dd_dir_path}\\dd_incident_details_master_file{dd_date_time}.csv\"\n",
    "dd_merged_df.to_csv(dd_file_name, index=False, header=True)     \n",
    "#### OPTIONAL EXTRACTING DATA TO CSV TO AVOID PROCESSING TIMES\n",
    "\n",
    "\n",
    "# DATA CLEANING \n",
    "dd_merged_df['Gender'] = dd_merged_df['Gender'].replace({'ale': 'Male', 'emale': 'Female','Mal':'Male'})\n",
    "dd_merged_df['Type'] = dd_merged_df['Type'].replace({'ictim': 'Victim', 'ubject-Suspect': 'Subject-Suspect'})\n",
    "dd_merged_df['Age Group'] = dd_merged_df['Age Group'].replace({'dult 18+': 'Adult 18+', 'een 12-17': 'Teen 12-17','hild 0-11': 'Child 0-11'})\n",
    "\n",
    "\n",
    "dd_victim_df = dd_merged_df.loc[dd_merged_df[\"Type\"] == 'Victim']\n",
    "dd_suspect_df = dd_merged_df.loc[dd_merged_df[\"Type\"] != 'Victim']\n",
    "dd_nonadult_df = dd_merged_df.loc[dd_merged_df[\"Age Group\"] != 'Adult 18+']\n"
   ]
  },
  {
   "cell_type": "code",
   "execution_count": 6,
   "metadata": {},
   "outputs": [
    {
     "data": {
      "image/png": "[encoded data removed]",
      "text/plain": [
       "<Figure size 504x432 with 1 Axes>"
      ]
     },
     "metadata": {
      "needs_background": "light"
     },
     "output_type": "display_data"
    }
   ],
   "source": [
    "# DD GRAPH I\n",
    "\n",
    "df_pivot = pd.pivot_table(\n",
    "\tdd_merged_df,\n",
    "\tvalues=\"incident_id\",\n",
    "\tindex=\"Gender\",\n",
    "\tcolumns=\"Type\",\n",
    "\taggfunc=np.count_nonzero\n",
    ")\n",
    "\n",
    "\n",
    "ax = df_pivot.plot(kind=\"bar\")\n",
    "fig = ax.get_figure()\n",
    "\n",
    "fig.set_size_inches(7, 6)\n",
    "\n",
    "ax.set_xlabel(\"Gender\")\n",
    "ax.set_ylabel(\"Participant Count\")\n",
    "\n",
    "\n",
    "ax.grid()\n",
    "fig.savefig(\"Gender_Type_1.png\")\n",
    "\n"
   ]
  },
  {
   "cell_type": "code",
   "execution_count": 7,
   "metadata": {},
   "outputs": [
    {
     "data": {
      "image/png": "[encoded data removed]",
      "text/plain": [
       "<Figure size 864x720 with 1 Axes>"
      ]
     },
     "metadata": {
      "needs_background": "light"
     },
     "output_type": "display_data"
    }
   ],
   "source": [
    "# DD GRAPH II\n",
    "\n",
    "df_pivot2 = pd.pivot_table(\n",
    "\tdd_suspect_df,\n",
    "\tvalues=\"incident_id\",\n",
    "\tindex=\"Gender\",\n",
    "\tcolumns=\"Age Group\",\n",
    "\taggfunc=np.count_nonzero\n",
    ")\n",
    "\n",
    "\n",
    "ax2 = df_pivot2.plot(kind=\"bar\",stacked=True)\n",
    "fig2 = ax2.get_figure()\n",
    "\n",
    "fig2.set_size_inches(12, 10)\n",
    "\n",
    "ax2.set_xlabel(\"Gender\")\n",
    "ax2.set_ylabel(\"Participant Count\")\n",
    "\n",
    "\n",
    "ax2.grid()\n",
    "fig2.savefig(\"Gender_Type_2.png\")"
   ]
  },
  {
   "cell_type": "code",
   "execution_count": 8,
   "metadata": {},
   "outputs": [
    {
     "data": {
      "image/png": "[encoded data removed]",
      "text/plain": [
       "<Figure size 864x720 with 1 Axes>"
      ]
     },
     "metadata": {
      "needs_background": "light"
     },
     "output_type": "display_data"
    }
   ],
   "source": [
    "# DD GRAPH III\n",
    "\n",
    "df_pivot3 = pd.pivot_table(\n",
    "\tdd_nonadult_df,\n",
    "\tvalues=\"incident_id\",\n",
    "\tindex=\"Age Group\",\n",
    "\tcolumns=\"Type\",\n",
    "\taggfunc=np.count_nonzero\n",
    ")\n",
    "\n",
    "\n",
    "ax3 = df_pivot3.plot(kind=\"bar\")\n",
    "fig3 = ax3.get_figure()\n",
    "\n",
    "fig3.set_size_inches(12, 10)\n",
    "\n",
    "ax3.set_xlabel(\"Gender\")\n",
    "ax3.set_ylabel(\"Participant Count\")\n",
    "\n",
    "\n",
    "ax3.grid()\n",
    "fig3.savefig(\"Gender_Type_3.png\")"
   ]
  }
 ],
 "metadata": {
  "anaconda-cloud": {},
  "interpreter": {
   "hash": "0177d0b8a2b6e54acf6252bb2539e74b888792532d7eae3d318e48ffaeb8c32a"
  },
  "kernel_info": {
   "name": "python3"
  },
  "kernelspec": {
   "display_name": "Python 3 (ipykernel)",
   "language": "python",
   "name": "python3"
  },
  "language_info": {
   "codemirror_mode": {
    "name": "ipython",
    "version": 3
   },
   "file_extension": ".py",
   "mimetype": "text/x-python",
   "name": "python",
   "nbconvert_exporter": "python",
   "pygments_lexer": "ipython3",
   "version": "3.7.13"
  },
  "latex_envs": {
   "LaTeX_envs_menu_present": true,
   "autoclose": false,
   "autocomplete": true,
   "bibliofile": "biblio.bib",
   "cite_by": "apalike",
   "current_citInitial": 1,
   "eqLabelWithNumbers": true,
   "eqNumInitial": 1,
   "hotkeys": {
    "equation": "Ctrl-E",
    "itemize": "Ctrl-I"
   },
   "labels_anchors": false,
   "latex_user_defs": false,
   "report_style_numbering": false,
   "user_envs_cfg": false
  },
  "nteract": {
   "version": "0.2.0"
  }
 },
 "nbformat": 4,
 "nbformat_minor": 2
}
