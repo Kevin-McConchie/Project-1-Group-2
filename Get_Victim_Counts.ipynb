{
 "cells": [
  {
   "cell_type": "markdown",
   "metadata": {},
   "source": [
    "### Note\n",
    "* Instructions have been included for each segment. You do not have to follow them exactly, but they are included to help you think through the steps."
   ]
  },
  {
   "cell_type": "code",
   "execution_count": 5,
   "metadata": {},
   "outputs": [],
   "source": [
    "# Dependencies and Setup\n",
    "import pandas as pd\n",
    "import dd_organize_data as dd"
   ]
  },
  {
   "cell_type": "markdown",
   "metadata": {},
   "source": [
    "## Player Count"
   ]
  },
  {
   "cell_type": "code",
   "execution_count": 6,
   "metadata": {},
   "outputs": [],
   "source": [
    "dd_file = \"resource/gun-violence-data_01-2013_03-2018 2.csv\"\n",
    "\n",
    "dd_file_df = pd.read_csv(dd_file)\n",
    "\n",
    "dd_participant_df = dd_file_df[['incident_id','participant_age','participant_age_group','participant_gender','participant_type','participant_status']]\n",
    "#participant_df = participant_df.iloc[0:5]  \n",
    "\n",
    "#participant_df.head()"
   ]
  },
  {
   "cell_type": "code",
   "execution_count": 7,
   "metadata": {},
   "outputs": [
    {
     "name": "stderr",
     "output_type": "stream",
     "text": [
      "c:\\Users\\User\\anaconda3\\envs\\bootcamp\\lib\\site-packages\\pandas\\util\\_decorators.py:311: SettingWithCopyWarning: \n",
      "A value is trying to be set on a copy of a slice from a DataFrame\n",
      "\n",
      "See the caveats in the documentation: https://pandas.pydata.org/pandas-docs/stable/user_guide/indexing.html#returning-a-view-versus-a-copy\n",
      "  return func(*args, **kwargs)\n"
     ]
    },
    {
     "name": "stdout",
     "output_type": "stream",
     "text": [
      "        incident_id                    participant_age  \\\n",
      "0            461105                              0::20   \n",
      "1            460726                              0::20   \n",
      "2            478855  0::25||1::31||2::33||3::34||4::33   \n",
      "3            478925         0::29||1::33||2::56||3::33   \n",
      "4            478959         0::18||1::46||2::14||3::47   \n",
      "...             ...                                ...   \n",
      "125758       559155                       0::57||1::53   \n",
      "125759       559477                              0::84   \n",
      "125760       560016                       0::40||1::28   \n",
      "125761       560019                                NaN   \n",
      "125762       558320                                NaN   \n",
      "\n",
      "                                    participant_age_group  \\\n",
      "0       0::Adult 18+||1::Adult 18+||2::Adult 18+||3::A...   \n",
      "1       0::Adult 18+||1::Adult 18+||2::Adult 18+||3::A...   \n",
      "2       0::Adult 18+||1::Adult 18+||2::Adult 18+||3::A...   \n",
      "3       0::Adult 18+||1::Adult 18+||2::Adult 18+||3::A...   \n",
      "4       0::Adult 18+||1::Adult 18+||2::Teen 12-17||3::...   \n",
      "...                                                   ...   \n",
      "125758                         0::Adult 18+||1::Adult 18+   \n",
      "125759                                       0::Adult 18+   \n",
      "125760                         0::Adult 18+||1::Adult 18+   \n",
      "125761                                       0::Adult 18+   \n",
      "125762                                       0::Adult 18+   \n",
      "\n",
      "                                 participant_gender  \\\n",
      "0              0::Male||1::Male||3::Male||4::Female   \n",
      "1                                           0::Male   \n",
      "2       0::Male||1::Male||2::Male||3::Male||4::Male   \n",
      "3              0::Female||1::Male||2::Male||3::Male   \n",
      "4            0::Female||1::Male||2::Male||3::Female   \n",
      "...                                             ...   \n",
      "125758                           0::Male||1::Female   \n",
      "125759                                      0::Male   \n",
      "125760                             0::Male||1::Male   \n",
      "125761                                      0::Male   \n",
      "125762                                      0::Male   \n",
      "\n",
      "                                         participant_type  \\\n",
      "0       0::Victim||1::Victim||2::Victim||3::Victim||4:...   \n",
      "1       0::Victim||1::Victim||2::Victim||3::Victim||4:...   \n",
      "2       0::Subject-Suspect||1::Subject-Suspect||2::Vic...   \n",
      "3       0::Victim||1::Victim||2::Victim||3::Subject-Su...   \n",
      "4       0::Victim||1::Victim||2::Victim||3::Subject-Su...   \n",
      "...                                                   ...   \n",
      "125758                      0::Victim||1::Subject-Suspect   \n",
      "125759                                          0::Victim   \n",
      "125760                      0::Victim||1::Subject-Suspect   \n",
      "125761                                          0::Victim   \n",
      "125762                                          0::Victim   \n",
      "\n",
      "                                       participant_status  \\\n",
      "0       0::Arrested||1::Injured||2::Injured||3::Injure...   \n",
      "1           0::Killed||1::Injured||2::Injured||3::Injured   \n",
      "2       0::Injured, Unharmed, Arrested||1::Unharmed, A...   \n",
      "3              0::Killed||1::Killed||2::Killed||3::Killed   \n",
      "4            0::Injured||1::Injured||2::Killed||3::Killed   \n",
      "...                                                   ...   \n",
      "125758                  0::Injured||1::Unharmed, Arrested   \n",
      "125759                                          0::Killed   \n",
      "125760                            0::Injured||1::Unharmed   \n",
      "125761                                         0::Injured   \n",
      "125762                                          0::Killed   \n",
      "\n",
      "                                       d_participant_type  \n",
      "0       [[0, Victim], [1, Victim], [2, Victim], [3, Vi...  \n",
      "1       [[0, Victim], [1, Victim], [2, Victim], [3, Vi...  \n",
      "2       [[0, Subject-Suspect], [1, Subject-Suspect], [...  \n",
      "3       [[0, Victim], [1, Victim], [2, Victim], [3, Su...  \n",
      "4       [[0, Victim], [1, Victim], [2, Victim], [3, Su...  \n",
      "...                                                   ...  \n",
      "125758                [[0, Victim], [1, Subject-Suspect]]  \n",
      "125759                                      [[0, Victim]]  \n",
      "125760                [[0, Victim], [1, Subject-Suspect]]  \n",
      "125761                                      [[0, Victim]]  \n",
      "125762                                      [[0, Victim]]  \n",
      "\n",
      "[112870 rows x 7 columns]\n"
     ]
    },
    {
     "name": "stderr",
     "output_type": "stream",
     "text": [
      "c:\\Users\\User\\anaconda3\\envs\\bootcamp\\lib\\site-packages\\ipykernel_launcher.py:5: SettingWithCopyWarning: \n",
      "A value is trying to be set on a copy of a slice from a DataFrame.\n",
      "Try using .loc[row_indexer,col_indexer] = value instead\n",
      "\n",
      "See the caveats in the documentation: https://pandas.pydata.org/pandas-docs/stable/user_guide/indexing.html#returning-a-view-versus-a-copy\n",
      "  \"\"\"\n"
     ]
    }
   ],
   "source": [
    "#q= Test.get_participant_count(participant_df[\"participant_type\"][0])\n",
    "\n",
    "dd_participant_df.dropna(subset=['participant_type'], how='all', inplace=True)\n",
    "\n",
    "dd_participant_df[\"d_participant_type\"] = dd.get_participant_count (dd_participant_df[\"participant_type\"])\n",
    "print(dd_participant_df)\n",
    "#participant_df[\"d_participant_age_group\"] = dd.get_participant_count (participant_df[\"participant_age_group\"])\n",
    "#participant_df[\"d_participant_gender\"] = dd.get_participant_count (participant_df[\"participant_gender\"])\n",
    "#participant_df[\"participant_status\"] = dd.get_participant_count (participant_df[\"participant_status\"])\n",
    "#print(participant_df)\n"
   ]
  }
 ],
 "metadata": {
  "anaconda-cloud": {},
  "interpreter": {
   "hash": "0177d0b8a2b6e54acf6252bb2539e74b888792532d7eae3d318e48ffaeb8c32a"
  },
  "kernel_info": {
   "name": "python3"
  },
  "kernelspec": {
   "display_name": "Python 3 (ipykernel)",
   "language": "python",
   "name": "python3"
  },
  "language_info": {
   "codemirror_mode": {
    "name": "ipython",
    "version": 3
   },
   "file_extension": ".py",
   "mimetype": "text/x-python",
   "name": "python",
   "nbconvert_exporter": "python",
   "pygments_lexer": "ipython3",
   "version": "3.7.13"
  },
  "latex_envs": {
   "LaTeX_envs_menu_present": true,
   "autoclose": false,
   "autocomplete": true,
   "bibliofile": "biblio.bib",
   "cite_by": "apalike",
   "current_citInitial": 1,
   "eqLabelWithNumbers": true,
   "eqNumInitial": 1,
   "hotkeys": {
    "equation": "Ctrl-E",
    "itemize": "Ctrl-I"
   },
   "labels_anchors": false,
   "latex_user_defs": false,
   "report_style_numbering": false,
   "user_envs_cfg": false
  },
  "nteract": {
   "version": "0.2.0"
  }
 },
 "nbformat": 4,
 "nbformat_minor": 2
}
