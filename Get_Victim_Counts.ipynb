{
 "cells": [
  {
   "cell_type": "markdown",
   "metadata": {},
   "source": [
    "### Note\n",
    "* Instructions have been included for each segment. You do not have to follow them exactly, but they are included to help you think through the steps."
   ]
  },
  {
   "cell_type": "code",
   "execution_count": 39,
   "metadata": {},
   "outputs": [],
   "source": [
    "# Dependencies and Setup\n",
    "import pandas as pd\n",
    "import get_participant_count as gpc\n"
   ]
  },
  {
   "cell_type": "markdown",
   "metadata": {},
   "source": [
    "## Player Count"
   ]
  },
  {
   "cell_type": "code",
   "execution_count": 40,
   "metadata": {},
   "outputs": [
    {
     "data": {
      "text/html": [
       "<div>\n",
       "<style scoped>\n",
       "    .dataframe tbody tr th:only-of-type {\n",
       "        vertical-align: middle;\n",
       "    }\n",
       "\n",
       "    .dataframe tbody tr th {\n",
       "        vertical-align: top;\n",
       "    }\n",
       "\n",
       "    .dataframe thead th {\n",
       "        text-align: right;\n",
       "    }\n",
       "</style>\n",
       "<table border=\"1\" class=\"dataframe\">\n",
       "  <thead>\n",
       "    <tr style=\"text-align: right;\">\n",
       "      <th></th>\n",
       "      <th>incident_id</th>\n",
       "      <th>participant_age_group</th>\n",
       "      <th>participant_gender</th>\n",
       "      <th>participant_type</th>\n",
       "      <th>participant_status</th>\n",
       "    </tr>\n",
       "  </thead>\n",
       "  <tbody>\n",
       "    <tr>\n",
       "      <th>0</th>\n",
       "      <td>461105</td>\n",
       "      <td>0::Adult 18+||1::Adult 18+||2::Adult 18+||3::A...</td>\n",
       "      <td>0::Male||1::Male||3::Male||4::Female</td>\n",
       "      <td>0::Victim||1::Victim||2::Victim||3::Victim||4:...</td>\n",
       "      <td>0::Arrested||1::Injured||2::Injured||3::Injure...</td>\n",
       "    </tr>\n",
       "    <tr>\n",
       "      <th>1</th>\n",
       "      <td>460726</td>\n",
       "      <td>0::Adult 18+||1::Adult 18+||2::Adult 18+||3::A...</td>\n",
       "      <td>0::Male</td>\n",
       "      <td>0::Victim||1::Victim||2::Victim||3::Victim||4:...</td>\n",
       "      <td>0::Killed||1::Injured||2::Injured||3::Injured</td>\n",
       "    </tr>\n",
       "    <tr>\n",
       "      <th>2</th>\n",
       "      <td>478855</td>\n",
       "      <td>0::Adult 18+||1::Adult 18+||2::Adult 18+||3::A...</td>\n",
       "      <td>0::Male||1::Male||2::Male||3::Male||4::Male</td>\n",
       "      <td>0::Subject-Suspect||1::Subject-Suspect||2::Vic...</td>\n",
       "      <td>0::Injured, Unharmed, Arrested||1::Unharmed, A...</td>\n",
       "    </tr>\n",
       "    <tr>\n",
       "      <th>3</th>\n",
       "      <td>478925</td>\n",
       "      <td>0::Adult 18+||1::Adult 18+||2::Adult 18+||3::A...</td>\n",
       "      <td>0::Female||1::Male||2::Male||3::Male</td>\n",
       "      <td>0::Victim||1::Victim||2::Victim||3::Subject-Su...</td>\n",
       "      <td>0::Killed||1::Killed||2::Killed||3::Killed</td>\n",
       "    </tr>\n",
       "    <tr>\n",
       "      <th>4</th>\n",
       "      <td>478959</td>\n",
       "      <td>0::Adult 18+||1::Adult 18+||2::Teen 12-17||3::...</td>\n",
       "      <td>0::Female||1::Male||2::Male||3::Female</td>\n",
       "      <td>0::Victim||1::Victim||2::Victim||3::Subject-Su...</td>\n",
       "      <td>0::Injured||1::Injured||2::Killed||3::Killed</td>\n",
       "    </tr>\n",
       "  </tbody>\n",
       "</table>\n",
       "</div>"
      ],
      "text/plain": [
       "   incident_id                              participant_age_group  \\\n",
       "0       461105  0::Adult 18+||1::Adult 18+||2::Adult 18+||3::A...   \n",
       "1       460726  0::Adult 18+||1::Adult 18+||2::Adult 18+||3::A...   \n",
       "2       478855  0::Adult 18+||1::Adult 18+||2::Adult 18+||3::A...   \n",
       "3       478925  0::Adult 18+||1::Adult 18+||2::Adult 18+||3::A...   \n",
       "4       478959  0::Adult 18+||1::Adult 18+||2::Teen 12-17||3::...   \n",
       "\n",
       "                            participant_gender  \\\n",
       "0         0::Male||1::Male||3::Male||4::Female   \n",
       "1                                      0::Male   \n",
       "2  0::Male||1::Male||2::Male||3::Male||4::Male   \n",
       "3         0::Female||1::Male||2::Male||3::Male   \n",
       "4       0::Female||1::Male||2::Male||3::Female   \n",
       "\n",
       "                                    participant_type  \\\n",
       "0  0::Victim||1::Victim||2::Victim||3::Victim||4:...   \n",
       "1  0::Victim||1::Victim||2::Victim||3::Victim||4:...   \n",
       "2  0::Subject-Suspect||1::Subject-Suspect||2::Vic...   \n",
       "3  0::Victim||1::Victim||2::Victim||3::Subject-Su...   \n",
       "4  0::Victim||1::Victim||2::Victim||3::Subject-Su...   \n",
       "\n",
       "                                  participant_status  \n",
       "0  0::Arrested||1::Injured||2::Injured||3::Injure...  \n",
       "1      0::Killed||1::Injured||2::Injured||3::Injured  \n",
       "2  0::Injured, Unharmed, Arrested||1::Unharmed, A...  \n",
       "3         0::Killed||1::Killed||2::Killed||3::Killed  \n",
       "4       0::Injured||1::Injured||2::Killed||3::Killed  "
      ]
     },
     "execution_count": 40,
     "metadata": {},
     "output_type": "execute_result"
    }
   ],
   "source": [
    "dd_file = \"resource/gun-violence-data_01-2013_03-2018 2.csv\"\n",
    "\n",
    "dd_file_df = pd.read_csv(dd_file)\n",
    "\n",
    "dd_participant_vdf = dd_file_df[['incident_id','participant_age_group','participant_gender','participant_type','participant_status']]\n",
    "#dd_participant_vdf = dd_participant_vdf.iloc[[0, 100],:]\n",
    "#dd_participant_vdf = dd_participant_vdf.iloc[:3]\n",
    "\n",
    "dd_participant_vdf.head()"
   ]
  },
  {
   "cell_type": "code",
   "execution_count": 41,
   "metadata": {},
   "outputs": [],
   "source": [
    "newdf = dd_participant_vdf.dropna()\n",
    "newdf.reset_index(level=None, drop=False, inplace=True, col_level=0, col_fill='')\n",
    "\n",
    "del newdf['index']\n",
    "\n"
   ]
  },
  {
   "cell_type": "code",
   "execution_count": 42,
   "metadata": {},
   "outputs": [
    {
     "name": "stdout",
     "output_type": "stream",
     "text": [
      "                                    participant_type  Victim_Count  \\\n",
      "0  0::Victim||1::Victim||2::Victim||3::Victim||4:...             4   \n",
      "1  0::Victim||1::Victim||2::Victim||3::Victim||4:...             4   \n",
      "2  0::Subject-Suspect||1::Subject-Suspect||2::Vic...             3   \n",
      "3  0::Victim||1::Victim||2::Victim||3::Subject-Su...             3   \n",
      "4  0::Victim||1::Victim||2::Victim||3::Subject-Su...             3   \n",
      "\n",
      "   Suspect_Count  \n",
      "0              1  \n",
      "1              1  \n",
      "2              2  \n",
      "3              1  \n",
      "4              1  \n"
     ]
    }
   ],
   "source": [
    "#\n",
    "# CALCULATING SUSPECT AND VICTIM COUNT\n",
    "#\n",
    "\n",
    "l_victim = gpc.get_participant_count(newdf['participant_type'],'Victim')\n",
    "l_suspect = gpc.get_participant_count(newdf['participant_type'],'Suspect')\n",
    "\n",
    "\n",
    "newdf = newdf.assign(Victim_Count=l_victim)\n",
    "newdf = newdf.assign(Suspect_Count=l_suspect)\n",
    "\n",
    "\n",
    "print(newdf[[\"participant_type\",\"Victim_Count\", \"Suspect_Count\"]].head())\n"
   ]
  }
 ],
 "metadata": {
  "anaconda-cloud": {},
  "interpreter": {
   "hash": "0177d0b8a2b6e54acf6252bb2539e74b888792532d7eae3d318e48ffaeb8c32a"
  },
  "kernel_info": {
   "name": "python3"
  },
  "kernelspec": {
   "display_name": "Python 3 (ipykernel)",
   "language": "python",
   "name": "python3"
  },
  "language_info": {
   "codemirror_mode": {
    "name": "ipython",
    "version": 3
   },
   "file_extension": ".py",
   "mimetype": "text/x-python",
   "name": "python",
   "nbconvert_exporter": "python",
   "pygments_lexer": "ipython3",
   "version": "3.7.13"
  },
  "latex_envs": {
   "LaTeX_envs_menu_present": true,
   "autoclose": false,
   "autocomplete": true,
   "bibliofile": "biblio.bib",
   "cite_by": "apalike",
   "current_citInitial": 1,
   "eqLabelWithNumbers": true,
   "eqNumInitial": 1,
   "hotkeys": {
    "equation": "Ctrl-E",
    "itemize": "Ctrl-I"
   },
   "labels_anchors": false,
   "latex_user_defs": false,
   "report_style_numbering": false,
   "user_envs_cfg": false
  },
  "nteract": {
   "version": "0.2.0"
  }
 },
 "nbformat": 4,
 "nbformat_minor": 2
}
